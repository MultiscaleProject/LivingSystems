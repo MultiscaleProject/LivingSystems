{
  "nbformat": 4,
  "nbformat_minor": 0,
  "metadata": {
    "colab": {
      "provenance": []
    },
    "kernelspec": {
      "name": "python3",
      "display_name": "Python 3"
    },
    "language_info": {
      "name": "python"
    }
  },
  "cells": [
    {
      "cell_type": "markdown",
      "source": [
        "# This is our first test"
      ],
      "metadata": {
        "id": "EYzDBdIJc_jJ"
      }
    },
    {
      "cell_type": "code",
      "execution_count": 1,
      "metadata": {
        "colab": {
          "base_uri": "https://localhost:8080/"
        },
        "id": "kfhUK43sc4ia",
        "outputId": "df28ef10-8f43-42de-85bb-f155381fde80"
      },
      "outputs": [
        {
          "output_type": "stream",
          "name": "stdout",
          "text": [
            "Hello Multiscale\n"
          ]
        }
      ],
      "source": [
        "print(\"Hello Multiscale\")"
      ]
    },
    {
      "cell_type": "code",
      "source": [],
      "metadata": {
        "id": "-VDCyfYzdCig"
      },
      "execution_count": null,
      "outputs": []
    }
  ]
}