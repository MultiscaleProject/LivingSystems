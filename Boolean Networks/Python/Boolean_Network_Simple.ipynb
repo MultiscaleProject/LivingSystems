{
  "nbformat": 4,
  "nbformat_minor": 0,
  "metadata": {
    "colab": {
      "provenance": []
    },
    "kernelspec": {
      "name": "python3",
      "display_name": "Python 3"
    },
    "language_info": {
      "name": "python"
    }
  },
  "cells": [
    {
      "cell_type": "markdown",
      "source": [
        "# Boolean Netowrk - Example\n",
        "\n",
        "A Boolean network is a mathematical model that consists of a set of binary variables (i.e., variables that can take on one of two values, such as \"on\" or \"off\") and a set of logical rules that determine how the variables change over time. The variables in a Boolean network can represent the state of different components of a biological system, such as genes, proteins, or cells, and the logical rules can represent the interactions between these components. Boolean networks are important to study living systems because they provide a simple yet powerful way to model the complex dynamics of these systems. Additionally, Boolean networks can be used to analyze the robustness and evolvability of biological systems, which are important properties for understanding the behavior of living organisms."
      ],
      "metadata": {
        "id": "dIC5RmckgiBq"
      }
    },
    {
      "cell_type": "code",
      "source": [
        "import random\n",
        "import networkx as nx\n",
        "import matplotlib.pyplot as plt"
      ],
      "metadata": {
        "id": "JtmDWCLdfJkB"
      },
      "execution_count": null,
      "outputs": []
    },
    {
      "cell_type": "code",
      "source": [
        "\"\"\" get_bin takes in an integer x and an integer n, and returns \n",
        "    the binary representation of x with n digits \"\"\"\n",
        "get_bin = lambda x, n: format(x, 'b').zfill(n)\n",
        "\n",
        "def RandomString(n):\n",
        "  \"\"\"\n",
        "  RandomString takes in an integer n, generates a random list of\n",
        "  n binary digits, and returns the list as a string\n",
        "  \"\"\"\n",
        "  lista = [int(random.randint(0, 1)) for i in range(n)]\n",
        "  return ''.join(map(str, lista))"
      ],
      "metadata": {
        "id": "t7m6slrxfV6J"
      },
      "execution_count": null,
      "outputs": []
    },
    {
      "cell_type": "markdown",
      "source": [
        "##Node"
      ],
      "metadata": {
        "id": "skG0Ma1_g2CX"
      }
    },
    {
      "cell_type": "code",
      "source": [
        "class Node:\n",
        "    def __init__(self):\n",
        "        self.inputs = []  # Regulators\n",
        "        self.boolFunc = {}        # Boolean function\n",
        "\n",
        "    def CreateInputs(self, connectivity, numNodes):\n",
        "        \"\"\"\n",
        "        Create 'connectivity' number of inputs for the node,\n",
        "        randomly selected from 'numNodes' number of possible inputs.\n",
        "        \"\"\"\n",
        "        numbers = list(range(numNodes))\n",
        "        selected = []\n",
        "        for i in range(connectivity):\n",
        "            chosen_number = random.choice(numbers)\n",
        "            selected.append(chosen_number)\n",
        "            numbers.remove(chosen_number)\n",
        "        self.inputs = selected\n",
        "    \n",
        "    def CreateBF(self):\n",
        "        \"\"\"\n",
        "        Create a Boolean function for the node,\n",
        "        with a random output value for each possible input configuration.\n",
        "        \"\"\"\n",
        "        connectivity = len(self.inputs)\n",
        "        for i in range(2 ** connectivity):\n",
        "            self.boolFunc[get_bin(i, connectivity)] = str(random.randint(0,1))\n"
      ],
      "metadata": {
        "id": "X4y7lfw3SJMo"
      },
      "execution_count": null,
      "outputs": []
    },
    {
      "cell_type": "markdown",
      "source": [
        "##Network"
      ],
      "metadata": {
        "id": "-nQ5xcF0g4ED"
      }
    },
    {
      "cell_type": "code",
      "source": [
        "class Network:\n",
        "  def __init__(self):\n",
        "    self.nodes = [] # list of nodes in the network\n",
        "    self.k = 0 # connectivity of the network\n",
        "\n",
        "  def CreateNetwork(self, numNodes, connectivity):\n",
        "    \"\"\"\n",
        "    Creates a network with the specified number of nodes and connectivity.\n",
        "    \"\"\"\n",
        "    self.k = connectivity\n",
        "    for i in range(numNodes):\n",
        "      n = Node()\n",
        "      n.CreateInputs(connectivity, numNodes) # create inputs for each node\n",
        "      n.CreateBF() # create a boolean function for each node\n",
        "      self.nodes.append(n)\n",
        "\n",
        "  def Update(self, initial_state):\n",
        "    \"\"\"\n",
        "    Updates the state of the network based on the initial state.\n",
        "    \"\"\"\n",
        "    next_state = \"\"\n",
        "    for n in self.nodes:\n",
        "      config = \"\"\n",
        "      for input in n.inputs:\n",
        "        config += initial_state[input]\n",
        "      next_state += n.boolFunc[config]\n",
        "    return next_state\n",
        "\n",
        "  def Plot(self):\n",
        "    \"\"\"\n",
        "    Plots a graph of the network connectivity.\n",
        "    \"\"\"\n",
        "    G = nx.DiGraph()\n",
        "    for i, n in enumerate(self.nodes):\n",
        "        G.add_node(i)\n",
        "        for input in n.inputs:\n",
        "            G.add_edge(input, i)\n",
        "    nx.draw(G)\n",
        "    plt.show()"
      ],
      "metadata": {
        "id": "KudeFen2c1I0"
      },
      "execution_count": null,
      "outputs": []
    },
    {
      "cell_type": "markdown",
      "source": [
        "##Create a new network, update the network's state, and draw the network."
      ],
      "metadata": {
        "id": "jn6W--rZg8gh"
      }
    },
    {
      "cell_type": "code",
      "source": [
        "# Create a network with 10 nodes and a connectivity of 2\n",
        "number_nodes = 10\n",
        "connectivity = 2\n",
        "net = Network()\n",
        "net.CreateNetwork(number_nodes, connectivity)\n",
        "\n",
        "# Assigning a random initial condition\n",
        "initial_condition = RandomString(number_nodes)\n",
        "\n",
        "# For the next time steps update the network's state\n",
        "time_steps = 10\n",
        "for i in range(time_steps):\n",
        "  print(\"t =\", i, \"\\t\", initial_condition) # Print the network state\n",
        "  initial_condition = net.Update(initial_condition)\n",
        "\n",
        "# Plot the network\n",
        "net.Plot()"
      ],
      "metadata": {
        "colab": {
          "base_uri": "https://localhost:8080/",
          "height": 498
        },
        "id": "vAMV7jxNd-pQ",
        "outputId": "c5e05b16-8c96-492f-8d2d-f635a87f3502"
      },
      "execution_count": null,
      "outputs": [
        {
          "output_type": "stream",
          "name": "stdout",
          "text": [
            "t = 0 \t 0101111010\n",
            "t = 1 \t 1100110110\n",
            "t = 2 \t 1000110011\n",
            "t = 3 \t 0101110111\n",
            "t = 4 \t 1100110010\n",
            "t = 5 \t 1100110111\n",
            "t = 6 \t 1000110011\n",
            "t = 7 \t 0101110111\n",
            "t = 8 \t 1100110010\n",
            "t = 9 \t 1100110111\n"
          ]
        },
        {
          "output_type": "display_data",
          "data": {
            "text/plain": [
              "<Figure size 432x288 with 1 Axes>"
            ],
            "image/png": "[encoded data removed]"
          },
          "metadata": {}
        }
      ]
    },
    {
      "cell_type": "code",
      "source": [],
      "metadata": {
        "id": "WcQ9i5dfeE6z"
      },
      "execution_count": null,
      "outputs": []
    }
  ]
}